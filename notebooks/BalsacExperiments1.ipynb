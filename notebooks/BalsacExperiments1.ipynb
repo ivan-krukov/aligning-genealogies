{
 "cells": [
  {
   "cell_type": "code",
   "execution_count": 2,
   "metadata": {},
   "outputs": [],
   "source": [
    "%load_ext autoreload\n",
    "%autoreload 2\n",
    "import networkx as nx\n",
    "import numpy as np\n",
    "import pandas as pd\n",
    "from genealogy_aligner import Pedigree\n",
    "import matplotlib.pyplot as plt\n",
    "from genealogy_aligner.Aligner import DescMatchingAligner\n",
    "import msprime as msp\n",
    "import io\n",
    "from IPython.display import SVG, display"
   ]
  },
  {
   "cell_type": "code",
   "execution_count": 3,
   "metadata": {},
   "outputs": [
    {
     "name": "stdout",
     "output_type": "stream",
     "text": [
      "Simulating from BALSAC pedigree...\n"
     ]
    }
   ],
   "source": [
    "print(\"Simulating from BALSAC pedigree...\")\n",
    "balsac = Pedigree.from_table('../data/balsac.tsv', header=True)"
   ]
  },
  {
   "cell_type": "code",
   "execution_count": 4,
   "metadata": {},
   "outputs": [],
   "source": [
    "bpprobands = balsac.probands(use_time=False)"
   ]
  },
  {
   "cell_type": "code",
   "execution_count": 5,
   "metadata": {},
   "outputs": [
    {
     "name": "stdout",
     "output_type": "stream",
     "text": [
      "Done!\n"
     ]
    }
   ],
   "source": [
    "bsim = balsac.generate_msprime_simulations(model_after=None)\n",
    "print(\"Done!\")"
   ]
  },
  {
   "cell_type": "code",
   "execution_count": 6,
   "metadata": {},
   "outputs": [
    {
     "data": {
      "text/plain": [
       "(<tskit.trees.TreeSequence at 0x109003110>,\n",
       " {0: 302716,\n",
       "  1: 302716,\n",
       "  2: 302711,\n",
       "  3: 302711,\n",
       "  4: 408375,\n",
       "  5: 408375,\n",
       "  6: 408426,\n",
       "  7: 408426,\n",
       "  8: 409687,\n",
       "  9: 409687,\n",
       "  10: 416144,\n",
       "  11: 416144,\n",
       "  12: 416147,\n",
       "  13: 416147,\n",
       "  14: 417169,\n",
       "  15: 417169,\n",
       "  16: 417234,\n",
       "  17: 417234,\n",
       "  18: 677273,\n",
       "  19: 677273},\n",
       " [<genealogy_aligner.Traversal.Traversal at 0xa1a37ed90>,\n",
       "  <genealogy_aligner.Traversal.Traversal at 0x1090c2510>,\n",
       "  <genealogy_aligner.Traversal.Traversal at 0x108cd7ed0>,\n",
       "  <genealogy_aligner.Traversal.Traversal at 0x108e2e450>])"
      ]
     },
     "execution_count": 6,
     "metadata": {},
     "output_type": "execute_result"
    }
   ],
   "source": [
    "bsim"
   ]
  },
  {
   "cell_type": "code",
   "execution_count": 7,
   "metadata": {},
   "outputs": [
    {
     "name": "stdout",
     "output_type": "stream",
     "text": [
      "4 23 253\n"
     ]
    }
   ],
   "source": [
    "ts = bsim[0]\n",
    "print(ts.num_trees,ts.num_edges,ts.num_individuals)"
   ]
  },
  {
   "cell_type": "code",
   "execution_count": 8,
   "metadata": {},
   "outputs": [
    {
     "data": {
      "image/svg+xml": [
       "<svg baseProfile=\"full\" height=\"200\" version=\"1.1\" width=\"1600\" xmlns=\"http://www.w3.org/2000/svg\" xmlns:ev=\"http://www.w3.org/2001/xml-events\" xmlns:xlink=\"http://www.w3.org/1999/xlink\"><defs/><g id=\"tree_0\"><g fill=\"none\" id=\"edges\" stroke=\"black\"><path d=\"M 85.23809523809524 170.0 V 30.0 H 85.23809523809524\" id=\"edge_0_0\"/><path d=\"M 160.47619047619048 170.0 V 30.0 H 160.47619047619048\" id=\"edge_0_1\"/><path d=\"M 235.71428571428572 170.0 V 30.0 H 235.71428571428572\" id=\"edge_0_2\"/><path d=\"M 310.95238095238096 170.0 V 30.0 H 310.95238095238096\" id=\"edge_0_3\"/><path d=\"M 386.1904761904762 170.0 V 30.0 H 386.1904761904762\" id=\"edge_0_4\"/><path d=\"M 461.42857142857144 170.0 V 30.0 H 461.42857142857144\" id=\"edge_0_5\"/><path d=\"M 536.6666666666667 170.0 V 30.0 H 536.6666666666667\" id=\"edge_0_6\"/><path d=\"M 611.9047619047619 170.0 V 30.0 H 611.9047619047619\" id=\"edge_0_7\"/><path d=\"M 687.1428571428571 170.0 V 30.0 H 687.1428571428571\" id=\"edge_0_8\"/><path d=\"M 762.3809523809523 170.0 V 30.0 H 762.3809523809523\" id=\"edge_0_9\"/><path d=\"M 837.6190476190475 170.0 V 30.0 H 837.6190476190475\" id=\"edge_0_10\"/><path d=\"M 912.8571428571427 170.0 V 30.0 H 912.8571428571427\" id=\"edge_0_11\"/><path d=\"M 988.0952380952378 170.0 V 30.0 H 988.0952380952378\" id=\"edge_0_12\"/><path d=\"M 1063.333333333333 170.0 V 30.0 H 1063.333333333333\" id=\"edge_0_13\"/><path d=\"M 1138.5714285714282 170.0 V 30.0 H 1138.5714285714282\" id=\"edge_0_14\"/><path d=\"M 1213.8095238095234 170.0 V 30.0 H 1213.8095238095234\" id=\"edge_0_15\"/><path d=\"M 1289.0476190476186 170.0 V 30.0 H 1289.0476190476186\" id=\"edge_0_16\"/><path d=\"M 1364.2857142857138 170.0 V 30.0 H 1364.2857142857138\" id=\"edge_0_17\"/><path d=\"M 1439.523809523809 170.0 V 30.0 H 1439.523809523809\" id=\"edge_0_18\"/><path d=\"M 1514.7619047619041 170.0 V 30.0 H 1514.7619047619041\" id=\"edge_0_19\"/></g><g id=\"symbols\"><g class=\"nodes\"><circle cx=\"85.23809523809524\" cy=\"30.0\" id=\"node_0_42\" r=\"3\"/><circle cx=\"85.23809523809524\" cy=\"170.0\" id=\"node_0_0\" r=\"3\"/><circle cx=\"160.47619047619048\" cy=\"30.0\" id=\"node_0_41\" r=\"3\"/><circle cx=\"160.47619047619048\" cy=\"170.0\" id=\"node_0_1\" r=\"3\"/><circle cx=\"235.71428571428572\" cy=\"30.0\" id=\"node_0_40\" r=\"3\"/><circle cx=\"235.71428571428572\" cy=\"170.0\" id=\"node_0_2\" r=\"3\"/><circle cx=\"310.95238095238096\" cy=\"30.0\" id=\"node_0_39\" r=\"3\"/><circle cx=\"310.95238095238096\" cy=\"170.0\" id=\"node_0_3\" r=\"3\"/><circle cx=\"386.1904761904762\" cy=\"30.0\" id=\"node_0_38\" r=\"3\"/><circle cx=\"386.1904761904762\" cy=\"170.0\" id=\"node_0_4\" r=\"3\"/><circle cx=\"461.42857142857144\" cy=\"30.0\" id=\"node_0_37\" r=\"3\"/><circle cx=\"461.42857142857144\" cy=\"170.0\" id=\"node_0_5\" r=\"3\"/><circle cx=\"536.6666666666667\" cy=\"30.0\" id=\"node_0_36\" r=\"3\"/><circle cx=\"536.6666666666667\" cy=\"170.0\" id=\"node_0_6\" r=\"3\"/><circle cx=\"611.9047619047619\" cy=\"30.0\" id=\"node_0_35\" r=\"3\"/><circle cx=\"611.9047619047619\" cy=\"170.0\" id=\"node_0_7\" r=\"3\"/><circle cx=\"687.1428571428571\" cy=\"30.0\" id=\"node_0_34\" r=\"3\"/><circle cx=\"687.1428571428571\" cy=\"170.0\" id=\"node_0_8\" r=\"3\"/><circle cx=\"762.3809523809523\" cy=\"30.0\" id=\"node_0_33\" r=\"3\"/><circle cx=\"762.3809523809523\" cy=\"170.0\" id=\"node_0_9\" r=\"3\"/><circle cx=\"837.6190476190475\" cy=\"30.0\" id=\"node_0_32\" r=\"3\"/><circle cx=\"837.6190476190475\" cy=\"170.0\" id=\"node_0_10\" r=\"3\"/><circle cx=\"912.8571428571427\" cy=\"30.0\" id=\"node_0_31\" r=\"3\"/><circle cx=\"912.8571428571427\" cy=\"170.0\" id=\"node_0_11\" r=\"3\"/><circle cx=\"988.0952380952378\" cy=\"30.0\" id=\"node_0_30\" r=\"3\"/><circle cx=\"988.0952380952378\" cy=\"170.0\" id=\"node_0_12\" r=\"3\"/><circle cx=\"1063.333333333333\" cy=\"30.0\" id=\"node_0_29\" r=\"3\"/><circle cx=\"1063.333333333333\" cy=\"170.0\" id=\"node_0_13\" r=\"3\"/><circle cx=\"1138.5714285714282\" cy=\"30.0\" id=\"node_0_28\" r=\"3\"/><circle cx=\"1138.5714285714282\" cy=\"170.0\" id=\"node_0_14\" r=\"3\"/><circle cx=\"1213.8095238095234\" cy=\"30.0\" id=\"node_0_27\" r=\"3\"/><circle cx=\"1213.8095238095234\" cy=\"170.0\" id=\"node_0_15\" r=\"3\"/><circle cx=\"1289.0476190476186\" cy=\"30.0\" id=\"node_0_26\" r=\"3\"/><circle cx=\"1289.0476190476186\" cy=\"170.0\" id=\"node_0_16\" r=\"3\"/><circle cx=\"1364.2857142857138\" cy=\"30.0\" id=\"node_0_25\" r=\"3\"/><circle cx=\"1364.2857142857138\" cy=\"170.0\" id=\"node_0_17\" r=\"3\"/><circle cx=\"1439.523809523809\" cy=\"30.0\" id=\"node_0_24\" r=\"3\"/><circle cx=\"1439.523809523809\" cy=\"170.0\" id=\"node_0_18\" r=\"3\"/><circle cx=\"1514.7619047619041\" cy=\"30.0\" id=\"node_0_23\" r=\"3\"/><circle cx=\"1514.7619047619041\" cy=\"170.0\" id=\"node_0_19\" r=\"3\"/></g><g class=\"mutations\" fill=\"red\"><rect height=\"6\" transform=\"translate(-3, -3)\" width=\"6\" x=\"310.95238095238096\" y=\"100.0\"/></g></g><g font-size=\"14\" id=\"labels\"><g class=\"nodes\"><g text-anchor=\"start\"/><g text-anchor=\"middle\"><text x=\"85.23809523809524\" y=\"25.0\">42</text><text x=\"85.23809523809524\" y=\"190.0\">0</text><text x=\"160.47619047619048\" y=\"25.0\">41</text><text x=\"160.47619047619048\" y=\"190.0\">1</text><text x=\"235.71428571428572\" y=\"25.0\">40</text><text x=\"235.71428571428572\" y=\"190.0\">2</text><text x=\"310.95238095238096\" y=\"25.0\">39</text><text x=\"310.95238095238096\" y=\"190.0\">3</text><text x=\"386.1904761904762\" y=\"25.0\">38</text><text x=\"386.1904761904762\" y=\"190.0\">4</text><text x=\"461.42857142857144\" y=\"25.0\">37</text><text x=\"461.42857142857144\" y=\"190.0\">5</text><text x=\"536.6666666666667\" y=\"25.0\">36</text><text x=\"536.6666666666667\" y=\"190.0\">6</text><text x=\"611.9047619047619\" y=\"25.0\">35</text><text x=\"611.9047619047619\" y=\"190.0\">7</text><text x=\"687.1428571428571\" y=\"25.0\">34</text><text x=\"687.1428571428571\" y=\"190.0\">8</text><text x=\"762.3809523809523\" y=\"25.0\">33</text><text x=\"762.3809523809523\" y=\"190.0\">9</text><text x=\"837.6190476190475\" y=\"25.0\">32</text><text x=\"837.6190476190475\" y=\"190.0\">10</text><text x=\"912.8571428571427\" y=\"25.0\">31</text><text x=\"912.8571428571427\" y=\"190.0\">11</text><text x=\"988.0952380952378\" y=\"25.0\">30</text><text x=\"988.0952380952378\" y=\"190.0\">12</text><text x=\"1063.333333333333\" y=\"25.0\">29</text><text x=\"1063.333333333333\" y=\"190.0\">13</text><text x=\"1138.5714285714282\" y=\"25.0\">28</text><text x=\"1138.5714285714282\" y=\"190.0\">14</text><text x=\"1213.8095238095234\" y=\"25.0\">27</text><text x=\"1213.8095238095234\" y=\"190.0\">15</text><text x=\"1289.0476190476186\" y=\"25.0\">26</text><text x=\"1289.0476190476186\" y=\"190.0\">16</text><text x=\"1364.2857142857138\" y=\"25.0\">25</text><text x=\"1364.2857142857138\" y=\"190.0\">17</text><text x=\"1439.523809523809\" y=\"25.0\">24</text><text x=\"1439.523809523809\" y=\"190.0\">18</text><text x=\"1514.7619047619041\" y=\"25.0\">23</text><text x=\"1514.7619047619041\" y=\"190.0\">19</text></g><g text-anchor=\"end\"/></g><g class=\"mutations\" font-style=\"italic\"><g text-anchor=\"start\"/><g text-anchor=\"end\"><text x=\"305.95238095238096\" y=\"104.0\">0</text></g></g></g></g></svg>"
      ],
      "text/plain": [
       "<IPython.core.display.SVG object>"
      ]
     },
     "metadata": {},
     "output_type": "display_data"
    },
    {
     "name": "stdout",
     "output_type": "stream",
     "text": [
      "Tree 0 covers [0.00, 180776.37)\n"
     ]
    },
    {
     "data": {
      "image/svg+xml": [
       "<svg baseProfile=\"full\" height=\"200\" version=\"1.1\" width=\"1600\" xmlns=\"http://www.w3.org/2000/svg\" xmlns:ev=\"http://www.w3.org/2001/xml-events\" xmlns:xlink=\"http://www.w3.org/1999/xlink\"><defs/><g id=\"tree_1\"><g fill=\"none\" id=\"edges\" stroke=\"black\"><path d=\"M 85.23809523809524 170.0 V 30.0 H 85.23809523809524\" id=\"edge_1_0\"/><path d=\"M 160.47619047619048 170.0 V 30.0 H 160.47619047619048\" id=\"edge_1_1\"/><path d=\"M 235.71428571428572 170.0 V 30.0 H 235.71428571428572\" id=\"edge_1_2\"/><path d=\"M 310.95238095238096 170.0 V 30.0 H 310.95238095238096\" id=\"edge_1_3\"/><path d=\"M 386.1904761904762 170.0 V 30.0 H 386.1904761904762\" id=\"edge_1_4\"/><path d=\"M 461.42857142857144 170.0 V 30.0 H 461.42857142857144\" id=\"edge_1_5\"/><path d=\"M 536.6666666666667 170.0 V 30.0 H 536.6666666666667\" id=\"edge_1_6\"/><path d=\"M 611.9047619047619 170.0 V 30.0 H 611.9047619047619\" id=\"edge_1_7\"/><path d=\"M 687.1428571428571 170.0 V 30.0 H 687.1428571428571\" id=\"edge_1_8\"/><path d=\"M 762.3809523809523 170.0 V 30.0 H 762.3809523809523\" id=\"edge_1_9\"/><path d=\"M 837.6190476190475 170.0 V 30.0 H 837.6190476190475\" id=\"edge_1_10\"/><path d=\"M 912.8571428571427 170.0 V 30.0 H 912.8571428571427\" id=\"edge_1_11\"/><path d=\"M 988.0952380952378 170.0 V 30.0 H 988.0952380952378\" id=\"edge_1_12\"/><path d=\"M 1063.333333333333 170.0 V 30.0 H 1063.333333333333\" id=\"edge_1_13\"/><path d=\"M 1138.5714285714282 170.0 V 30.0 H 1138.5714285714282\" id=\"edge_1_14\"/><path d=\"M 1213.8095238095234 170.0 V 30.0 H 1213.8095238095234\" id=\"edge_1_15\"/><path d=\"M 1289.0476190476186 170.0 V 30.0 H 1289.0476190476186\" id=\"edge_1_16\"/><path d=\"M 1364.2857142857138 170.0 V 30.0 H 1364.2857142857138\" id=\"edge_1_17\"/><path d=\"M 1439.523809523809 170.0 V 30.0 H 1439.523809523809\" id=\"edge_1_18\"/><path d=\"M 1514.7619047619041 170.0 V 30.0 H 1514.7619047619041\" id=\"edge_1_19\"/></g><g id=\"symbols\"><g class=\"nodes\"><circle cx=\"85.23809523809524\" cy=\"30.0\" id=\"node_1_42\" r=\"3\"/><circle cx=\"85.23809523809524\" cy=\"170.0\" id=\"node_1_0\" r=\"3\"/><circle cx=\"160.47619047619048\" cy=\"30.0\" id=\"node_1_41\" r=\"3\"/><circle cx=\"160.47619047619048\" cy=\"170.0\" id=\"node_1_1\" r=\"3\"/><circle cx=\"235.71428571428572\" cy=\"30.0\" id=\"node_1_40\" r=\"3\"/><circle cx=\"235.71428571428572\" cy=\"170.0\" id=\"node_1_2\" r=\"3\"/><circle cx=\"310.95238095238096\" cy=\"30.0\" id=\"node_1_20\" r=\"3\"/><circle cx=\"310.95238095238096\" cy=\"170.0\" id=\"node_1_3\" r=\"3\"/><circle cx=\"386.1904761904762\" cy=\"30.0\" id=\"node_1_38\" r=\"3\"/><circle cx=\"386.1904761904762\" cy=\"170.0\" id=\"node_1_4\" r=\"3\"/><circle cx=\"461.42857142857144\" cy=\"30.0\" id=\"node_1_37\" r=\"3\"/><circle cx=\"461.42857142857144\" cy=\"170.0\" id=\"node_1_5\" r=\"3\"/><circle cx=\"536.6666666666667\" cy=\"30.0\" id=\"node_1_36\" r=\"3\"/><circle cx=\"536.6666666666667\" cy=\"170.0\" id=\"node_1_6\" r=\"3\"/><circle cx=\"611.9047619047619\" cy=\"30.0\" id=\"node_1_35\" r=\"3\"/><circle cx=\"611.9047619047619\" cy=\"170.0\" id=\"node_1_7\" r=\"3\"/><circle cx=\"687.1428571428571\" cy=\"30.0\" id=\"node_1_34\" r=\"3\"/><circle cx=\"687.1428571428571\" cy=\"170.0\" id=\"node_1_8\" r=\"3\"/><circle cx=\"762.3809523809523\" cy=\"30.0\" id=\"node_1_33\" r=\"3\"/><circle cx=\"762.3809523809523\" cy=\"170.0\" id=\"node_1_9\" r=\"3\"/><circle cx=\"837.6190476190475\" cy=\"30.0\" id=\"node_1_32\" r=\"3\"/><circle cx=\"837.6190476190475\" cy=\"170.0\" id=\"node_1_10\" r=\"3\"/><circle cx=\"912.8571428571427\" cy=\"30.0\" id=\"node_1_31\" r=\"3\"/><circle cx=\"912.8571428571427\" cy=\"170.0\" id=\"node_1_11\" r=\"3\"/><circle cx=\"988.0952380952378\" cy=\"30.0\" id=\"node_1_30\" r=\"3\"/><circle cx=\"988.0952380952378\" cy=\"170.0\" id=\"node_1_12\" r=\"3\"/><circle cx=\"1063.333333333333\" cy=\"30.0\" id=\"node_1_29\" r=\"3\"/><circle cx=\"1063.333333333333\" cy=\"170.0\" id=\"node_1_13\" r=\"3\"/><circle cx=\"1138.5714285714282\" cy=\"30.0\" id=\"node_1_28\" r=\"3\"/><circle cx=\"1138.5714285714282\" cy=\"170.0\" id=\"node_1_14\" r=\"3\"/><circle cx=\"1213.8095238095234\" cy=\"30.0\" id=\"node_1_27\" r=\"3\"/><circle cx=\"1213.8095238095234\" cy=\"170.0\" id=\"node_1_15\" r=\"3\"/><circle cx=\"1289.0476190476186\" cy=\"30.0\" id=\"node_1_26\" r=\"3\"/><circle cx=\"1289.0476190476186\" cy=\"170.0\" id=\"node_1_16\" r=\"3\"/><circle cx=\"1364.2857142857138\" cy=\"30.0\" id=\"node_1_25\" r=\"3\"/><circle cx=\"1364.2857142857138\" cy=\"170.0\" id=\"node_1_17\" r=\"3\"/><circle cx=\"1439.523809523809\" cy=\"30.0\" id=\"node_1_24\" r=\"3\"/><circle cx=\"1439.523809523809\" cy=\"170.0\" id=\"node_1_18\" r=\"3\"/><circle cx=\"1514.7619047619041\" cy=\"30.0\" id=\"node_1_23\" r=\"3\"/><circle cx=\"1514.7619047619041\" cy=\"170.0\" id=\"node_1_19\" r=\"3\"/></g><g class=\"mutations\" fill=\"red\"><rect height=\"6\" transform=\"translate(-3, -3)\" width=\"6\" x=\"235.71428571428572\" y=\"100.0\"/></g></g><g font-size=\"14\" id=\"labels\"><g class=\"nodes\"><g text-anchor=\"start\"/><g text-anchor=\"middle\"><text x=\"85.23809523809524\" y=\"25.0\">42</text><text x=\"85.23809523809524\" y=\"190.0\">0</text><text x=\"160.47619047619048\" y=\"25.0\">41</text><text x=\"160.47619047619048\" y=\"190.0\">1</text><text x=\"235.71428571428572\" y=\"25.0\">40</text><text x=\"235.71428571428572\" y=\"190.0\">2</text><text x=\"310.95238095238096\" y=\"25.0\">20</text><text x=\"310.95238095238096\" y=\"190.0\">3</text><text x=\"386.1904761904762\" y=\"25.0\">38</text><text x=\"386.1904761904762\" y=\"190.0\">4</text><text x=\"461.42857142857144\" y=\"25.0\">37</text><text x=\"461.42857142857144\" y=\"190.0\">5</text><text x=\"536.6666666666667\" y=\"25.0\">36</text><text x=\"536.6666666666667\" y=\"190.0\">6</text><text x=\"611.9047619047619\" y=\"25.0\">35</text><text x=\"611.9047619047619\" y=\"190.0\">7</text><text x=\"687.1428571428571\" y=\"25.0\">34</text><text x=\"687.1428571428571\" y=\"190.0\">8</text><text x=\"762.3809523809523\" y=\"25.0\">33</text><text x=\"762.3809523809523\" y=\"190.0\">9</text><text x=\"837.6190476190475\" y=\"25.0\">32</text><text x=\"837.6190476190475\" y=\"190.0\">10</text><text x=\"912.8571428571427\" y=\"25.0\">31</text><text x=\"912.8571428571427\" y=\"190.0\">11</text><text x=\"988.0952380952378\" y=\"25.0\">30</text><text x=\"988.0952380952378\" y=\"190.0\">12</text><text x=\"1063.333333333333\" y=\"25.0\">29</text><text x=\"1063.333333333333\" y=\"190.0\">13</text><text x=\"1138.5714285714282\" y=\"25.0\">28</text><text x=\"1138.5714285714282\" y=\"190.0\">14</text><text x=\"1213.8095238095234\" y=\"25.0\">27</text><text x=\"1213.8095238095234\" y=\"190.0\">15</text><text x=\"1289.0476190476186\" y=\"25.0\">26</text><text x=\"1289.0476190476186\" y=\"190.0\">16</text><text x=\"1364.2857142857138\" y=\"25.0\">25</text><text x=\"1364.2857142857138\" y=\"190.0\">17</text><text x=\"1439.523809523809\" y=\"25.0\">24</text><text x=\"1439.523809523809\" y=\"190.0\">18</text><text x=\"1514.7619047619041\" y=\"25.0\">23</text><text x=\"1514.7619047619041\" y=\"190.0\">19</text></g><g text-anchor=\"end\"/></g><g class=\"mutations\" font-style=\"italic\"><g text-anchor=\"start\"/><g text-anchor=\"end\"><text x=\"230.71428571428572\" y=\"104.0\">1</text></g></g></g></g></svg>"
      ],
      "text/plain": [
       "<IPython.core.display.SVG object>"
      ]
     },
     "metadata": {},
     "output_type": "display_data"
    },
    {
     "name": "stdout",
     "output_type": "stream",
     "text": [
      "Tree 1 covers [180776.37, 335384.33)\n"
     ]
    },
    {
     "data": {
      "image/svg+xml": [
       "<svg baseProfile=\"full\" height=\"200\" version=\"1.1\" width=\"1600\" xmlns=\"http://www.w3.org/2000/svg\" xmlns:ev=\"http://www.w3.org/2001/xml-events\" xmlns:xlink=\"http://www.w3.org/1999/xlink\"><defs/><g id=\"tree_2\"><g fill=\"none\" id=\"edges\" stroke=\"black\"><path d=\"M 85.23809523809524 170.0 V 30.0 H 85.23809523809524\" id=\"edge_2_0\"/><path d=\"M 160.47619047619048 170.0 V 30.0 H 160.47619047619048\" id=\"edge_2_1\"/><path d=\"M 235.71428571428572 170.0 V 30.0 H 235.71428571428572\" id=\"edge_2_2\"/><path d=\"M 310.95238095238096 170.0 V 30.0 H 310.95238095238096\" id=\"edge_2_3\"/><path d=\"M 386.1904761904762 170.0 V 30.0 H 386.1904761904762\" id=\"edge_2_4\"/><path d=\"M 461.42857142857144 170.0 V 30.0 H 461.42857142857144\" id=\"edge_2_5\"/><path d=\"M 536.6666666666667 170.0 V 30.0 H 536.6666666666667\" id=\"edge_2_6\"/><path d=\"M 611.9047619047619 170.0 V 30.0 H 611.9047619047619\" id=\"edge_2_7\"/><path d=\"M 687.1428571428571 170.0 V 30.0 H 687.1428571428571\" id=\"edge_2_8\"/><path d=\"M 762.3809523809523 170.0 V 30.0 H 762.3809523809523\" id=\"edge_2_9\"/><path d=\"M 837.6190476190475 170.0 V 30.0 H 837.6190476190475\" id=\"edge_2_10\"/><path d=\"M 912.8571428571427 170.0 V 30.0 H 912.8571428571427\" id=\"edge_2_11\"/><path d=\"M 988.0952380952378 170.0 V 30.0 H 988.0952380952378\" id=\"edge_2_12\"/><path d=\"M 1063.333333333333 170.0 V 30.0 H 1063.333333333333\" id=\"edge_2_13\"/><path d=\"M 1138.5714285714282 170.0 V 30.0 H 1138.5714285714282\" id=\"edge_2_14\"/><path d=\"M 1213.8095238095234 170.0 V 30.0 H 1213.8095238095234\" id=\"edge_2_15\"/><path d=\"M 1289.0476190476186 170.0 V 30.0 H 1289.0476190476186\" id=\"edge_2_16\"/><path d=\"M 1364.2857142857138 170.0 V 30.0 H 1364.2857142857138\" id=\"edge_2_17\"/><path d=\"M 1439.523809523809 170.0 V 30.0 H 1439.523809523809\" id=\"edge_2_18\"/><path d=\"M 1514.7619047619041 170.0 V 30.0 H 1514.7619047619041\" id=\"edge_2_19\"/></g><g id=\"symbols\"><g class=\"nodes\"><circle cx=\"85.23809523809524\" cy=\"30.0\" id=\"node_2_42\" r=\"3\"/><circle cx=\"85.23809523809524\" cy=\"170.0\" id=\"node_2_0\" r=\"3\"/><circle cx=\"160.47619047619048\" cy=\"30.0\" id=\"node_2_41\" r=\"3\"/><circle cx=\"160.47619047619048\" cy=\"170.0\" id=\"node_2_1\" r=\"3\"/><circle cx=\"235.71428571428572\" cy=\"30.0\" id=\"node_2_40\" r=\"3\"/><circle cx=\"235.71428571428572\" cy=\"170.0\" id=\"node_2_2\" r=\"3\"/><circle cx=\"310.95238095238096\" cy=\"30.0\" id=\"node_2_20\" r=\"3\"/><circle cx=\"310.95238095238096\" cy=\"170.0\" id=\"node_2_3\" r=\"3\"/><circle cx=\"386.1904761904762\" cy=\"30.0\" id=\"node_2_38\" r=\"3\"/><circle cx=\"386.1904761904762\" cy=\"170.0\" id=\"node_2_4\" r=\"3\"/><circle cx=\"461.42857142857144\" cy=\"30.0\" id=\"node_2_37\" r=\"3\"/><circle cx=\"461.42857142857144\" cy=\"170.0\" id=\"node_2_5\" r=\"3\"/><circle cx=\"536.6666666666667\" cy=\"30.0\" id=\"node_2_36\" r=\"3\"/><circle cx=\"536.6666666666667\" cy=\"170.0\" id=\"node_2_6\" r=\"3\"/><circle cx=\"611.9047619047619\" cy=\"30.0\" id=\"node_2_35\" r=\"3\"/><circle cx=\"611.9047619047619\" cy=\"170.0\" id=\"node_2_7\" r=\"3\"/><circle cx=\"687.1428571428571\" cy=\"30.0\" id=\"node_2_34\" r=\"3\"/><circle cx=\"687.1428571428571\" cy=\"170.0\" id=\"node_2_8\" r=\"3\"/><circle cx=\"762.3809523809523\" cy=\"30.0\" id=\"node_2_33\" r=\"3\"/><circle cx=\"762.3809523809523\" cy=\"170.0\" id=\"node_2_9\" r=\"3\"/><circle cx=\"837.6190476190475\" cy=\"30.0\" id=\"node_2_32\" r=\"3\"/><circle cx=\"837.6190476190475\" cy=\"170.0\" id=\"node_2_10\" r=\"3\"/><circle cx=\"912.8571428571427\" cy=\"30.0\" id=\"node_2_31\" r=\"3\"/><circle cx=\"912.8571428571427\" cy=\"170.0\" id=\"node_2_11\" r=\"3\"/><circle cx=\"988.0952380952378\" cy=\"30.0\" id=\"node_2_22\" r=\"3\"/><circle cx=\"988.0952380952378\" cy=\"170.0\" id=\"node_2_12\" r=\"3\"/><circle cx=\"1063.333333333333\" cy=\"30.0\" id=\"node_2_29\" r=\"3\"/><circle cx=\"1063.333333333333\" cy=\"170.0\" id=\"node_2_13\" r=\"3\"/><circle cx=\"1138.5714285714282\" cy=\"30.0\" id=\"node_2_28\" r=\"3\"/><circle cx=\"1138.5714285714282\" cy=\"170.0\" id=\"node_2_14\" r=\"3\"/><circle cx=\"1213.8095238095234\" cy=\"30.0\" id=\"node_2_27\" r=\"3\"/><circle cx=\"1213.8095238095234\" cy=\"170.0\" id=\"node_2_15\" r=\"3\"/><circle cx=\"1289.0476190476186\" cy=\"30.0\" id=\"node_2_26\" r=\"3\"/><circle cx=\"1289.0476190476186\" cy=\"170.0\" id=\"node_2_16\" r=\"3\"/><circle cx=\"1364.2857142857138\" cy=\"30.0\" id=\"node_2_25\" r=\"3\"/><circle cx=\"1364.2857142857138\" cy=\"170.0\" id=\"node_2_17\" r=\"3\"/><circle cx=\"1439.523809523809\" cy=\"30.0\" id=\"node_2_24\" r=\"3\"/><circle cx=\"1439.523809523809\" cy=\"170.0\" id=\"node_2_18\" r=\"3\"/><circle cx=\"1514.7619047619041\" cy=\"30.0\" id=\"node_2_23\" r=\"3\"/><circle cx=\"1514.7619047619041\" cy=\"170.0\" id=\"node_2_19\" r=\"3\"/></g><g class=\"mutations\" fill=\"red\"/></g><g font-size=\"14\" id=\"labels\"><g class=\"nodes\"><g text-anchor=\"start\"/><g text-anchor=\"middle\"><text x=\"85.23809523809524\" y=\"25.0\">42</text><text x=\"85.23809523809524\" y=\"190.0\">0</text><text x=\"160.47619047619048\" y=\"25.0\">41</text><text x=\"160.47619047619048\" y=\"190.0\">1</text><text x=\"235.71428571428572\" y=\"25.0\">40</text><text x=\"235.71428571428572\" y=\"190.0\">2</text><text x=\"310.95238095238096\" y=\"25.0\">20</text><text x=\"310.95238095238096\" y=\"190.0\">3</text><text x=\"386.1904761904762\" y=\"25.0\">38</text><text x=\"386.1904761904762\" y=\"190.0\">4</text><text x=\"461.42857142857144\" y=\"25.0\">37</text><text x=\"461.42857142857144\" y=\"190.0\">5</text><text x=\"536.6666666666667\" y=\"25.0\">36</text><text x=\"536.6666666666667\" y=\"190.0\">6</text><text x=\"611.9047619047619\" y=\"25.0\">35</text><text x=\"611.9047619047619\" y=\"190.0\">7</text><text x=\"687.1428571428571\" y=\"25.0\">34</text><text x=\"687.1428571428571\" y=\"190.0\">8</text><text x=\"762.3809523809523\" y=\"25.0\">33</text><text x=\"762.3809523809523\" y=\"190.0\">9</text><text x=\"837.6190476190475\" y=\"25.0\">32</text><text x=\"837.6190476190475\" y=\"190.0\">10</text><text x=\"912.8571428571427\" y=\"25.0\">31</text><text x=\"912.8571428571427\" y=\"190.0\">11</text><text x=\"988.0952380952378\" y=\"25.0\">22</text><text x=\"988.0952380952378\" y=\"190.0\">12</text><text x=\"1063.333333333333\" y=\"25.0\">29</text><text x=\"1063.333333333333\" y=\"190.0\">13</text><text x=\"1138.5714285714282\" y=\"25.0\">28</text><text x=\"1138.5714285714282\" y=\"190.0\">14</text><text x=\"1213.8095238095234\" y=\"25.0\">27</text><text x=\"1213.8095238095234\" y=\"190.0\">15</text><text x=\"1289.0476190476186\" y=\"25.0\">26</text><text x=\"1289.0476190476186\" y=\"190.0\">16</text><text x=\"1364.2857142857138\" y=\"25.0\">25</text><text x=\"1364.2857142857138\" y=\"190.0\">17</text><text x=\"1439.523809523809\" y=\"25.0\">24</text><text x=\"1439.523809523809\" y=\"190.0\">18</text><text x=\"1514.7619047619041\" y=\"25.0\">23</text><text x=\"1514.7619047619041\" y=\"190.0\">19</text></g><g text-anchor=\"end\"/></g><g class=\"mutations\" font-style=\"italic\"><g text-anchor=\"start\"/><g text-anchor=\"end\"/></g></g></g></svg>"
      ],
      "text/plain": [
       "<IPython.core.display.SVG object>"
      ]
     },
     "metadata": {},
     "output_type": "display_data"
    },
    {
     "name": "stdout",
     "output_type": "stream",
     "text": [
      "Tree 2 covers [335384.33, 445842.78)\n"
     ]
    },
    {
     "data": {
      "image/svg+xml": [
       "<svg baseProfile=\"full\" height=\"200\" version=\"1.1\" width=\"1600\" xmlns=\"http://www.w3.org/2000/svg\" xmlns:ev=\"http://www.w3.org/2001/xml-events\" xmlns:xlink=\"http://www.w3.org/1999/xlink\"><defs/><g id=\"tree_3\"><g fill=\"none\" id=\"edges\" stroke=\"black\"><path d=\"M 85.23809523809524 170.0 V 30.0 H 85.23809523809524\" id=\"edge_3_0\"/><path d=\"M 160.47619047619048 170.0 V 30.0 H 160.47619047619048\" id=\"edge_3_1\"/><path d=\"M 235.71428571428572 170.0 V 30.0 H 235.71428571428572\" id=\"edge_3_2\"/><path d=\"M 310.95238095238096 170.0 V 30.0 H 310.95238095238096\" id=\"edge_3_3\"/><path d=\"M 386.1904761904762 170.0 V 30.0 H 386.1904761904762\" id=\"edge_3_4\"/><path d=\"M 461.42857142857144 170.0 V 30.0 H 461.42857142857144\" id=\"edge_3_5\"/><path d=\"M 536.6666666666667 170.0 V 30.0 H 536.6666666666667\" id=\"edge_3_6\"/><path d=\"M 611.9047619047619 170.0 V 30.0 H 611.9047619047619\" id=\"edge_3_7\"/><path d=\"M 687.1428571428571 170.0 V 30.0 H 687.1428571428571\" id=\"edge_3_8\"/><path d=\"M 762.3809523809523 170.0 V 30.0 H 762.3809523809523\" id=\"edge_3_9\"/><path d=\"M 837.6190476190475 170.0 V 30.0 H 837.6190476190475\" id=\"edge_3_10\"/><path d=\"M 912.8571428571427 170.0 V 30.0 H 912.8571428571427\" id=\"edge_3_11\"/><path d=\"M 988.0952380952378 170.0 V 30.0 H 988.0952380952378\" id=\"edge_3_12\"/><path d=\"M 1063.333333333333 170.0 V 30.0 H 1063.333333333333\" id=\"edge_3_13\"/><path d=\"M 1138.5714285714282 170.0 V 30.0 H 1138.5714285714282\" id=\"edge_3_14\"/><path d=\"M 1213.8095238095234 170.0 V 30.0 H 1213.8095238095234\" id=\"edge_3_15\"/><path d=\"M 1289.0476190476186 170.0 V 30.0 H 1289.0476190476186\" id=\"edge_3_16\"/><path d=\"M 1364.2857142857138 170.0 V 30.0 H 1364.2857142857138\" id=\"edge_3_17\"/><path d=\"M 1439.523809523809 170.0 V 30.0 H 1439.523809523809\" id=\"edge_3_18\"/><path d=\"M 1514.7619047619041 170.0 V 30.0 H 1514.7619047619041\" id=\"edge_3_19\"/></g><g id=\"symbols\"><g class=\"nodes\"><circle cx=\"85.23809523809524\" cy=\"30.0\" id=\"node_3_42\" r=\"3\"/><circle cx=\"85.23809523809524\" cy=\"170.0\" id=\"node_3_0\" r=\"3\"/><circle cx=\"160.47619047619048\" cy=\"30.0\" id=\"node_3_41\" r=\"3\"/><circle cx=\"160.47619047619048\" cy=\"170.0\" id=\"node_3_1\" r=\"3\"/><circle cx=\"235.71428571428572\" cy=\"30.0\" id=\"node_3_40\" r=\"3\"/><circle cx=\"235.71428571428572\" cy=\"170.0\" id=\"node_3_2\" r=\"3\"/><circle cx=\"310.95238095238096\" cy=\"30.0\" id=\"node_3_20\" r=\"3\"/><circle cx=\"310.95238095238096\" cy=\"170.0\" id=\"node_3_3\" r=\"3\"/><circle cx=\"386.1904761904762\" cy=\"30.0\" id=\"node_3_38\" r=\"3\"/><circle cx=\"386.1904761904762\" cy=\"170.0\" id=\"node_3_4\" r=\"3\"/><circle cx=\"461.42857142857144\" cy=\"30.0\" id=\"node_3_37\" r=\"3\"/><circle cx=\"461.42857142857144\" cy=\"170.0\" id=\"node_3_5\" r=\"3\"/><circle cx=\"536.6666666666667\" cy=\"30.0\" id=\"node_3_36\" r=\"3\"/><circle cx=\"536.6666666666667\" cy=\"170.0\" id=\"node_3_6\" r=\"3\"/><circle cx=\"611.9047619047619\" cy=\"30.0\" id=\"node_3_35\" r=\"3\"/><circle cx=\"611.9047619047619\" cy=\"170.0\" id=\"node_3_7\" r=\"3\"/><circle cx=\"687.1428571428571\" cy=\"30.0\" id=\"node_3_34\" r=\"3\"/><circle cx=\"687.1428571428571\" cy=\"170.0\" id=\"node_3_8\" r=\"3\"/><circle cx=\"762.3809523809523\" cy=\"30.0\" id=\"node_3_33\" r=\"3\"/><circle cx=\"762.3809523809523\" cy=\"170.0\" id=\"node_3_9\" r=\"3\"/><circle cx=\"837.6190476190475\" cy=\"30.0\" id=\"node_3_32\" r=\"3\"/><circle cx=\"837.6190476190475\" cy=\"170.0\" id=\"node_3_10\" r=\"3\"/><circle cx=\"912.8571428571427\" cy=\"30.0\" id=\"node_3_31\" r=\"3\"/><circle cx=\"912.8571428571427\" cy=\"170.0\" id=\"node_3_11\" r=\"3\"/><circle cx=\"988.0952380952378\" cy=\"30.0\" id=\"node_3_21\" r=\"3\"/><circle cx=\"988.0952380952378\" cy=\"170.0\" id=\"node_3_12\" r=\"3\"/><circle cx=\"1063.333333333333\" cy=\"30.0\" id=\"node_3_29\" r=\"3\"/><circle cx=\"1063.333333333333\" cy=\"170.0\" id=\"node_3_13\" r=\"3\"/><circle cx=\"1138.5714285714282\" cy=\"30.0\" id=\"node_3_28\" r=\"3\"/><circle cx=\"1138.5714285714282\" cy=\"170.0\" id=\"node_3_14\" r=\"3\"/><circle cx=\"1213.8095238095234\" cy=\"30.0\" id=\"node_3_27\" r=\"3\"/><circle cx=\"1213.8095238095234\" cy=\"170.0\" id=\"node_3_15\" r=\"3\"/><circle cx=\"1289.0476190476186\" cy=\"30.0\" id=\"node_3_26\" r=\"3\"/><circle cx=\"1289.0476190476186\" cy=\"170.0\" id=\"node_3_16\" r=\"3\"/><circle cx=\"1364.2857142857138\" cy=\"30.0\" id=\"node_3_25\" r=\"3\"/><circle cx=\"1364.2857142857138\" cy=\"170.0\" id=\"node_3_17\" r=\"3\"/><circle cx=\"1439.523809523809\" cy=\"30.0\" id=\"node_3_24\" r=\"3\"/><circle cx=\"1439.523809523809\" cy=\"170.0\" id=\"node_3_18\" r=\"3\"/><circle cx=\"1514.7619047619041\" cy=\"30.0\" id=\"node_3_23\" r=\"3\"/><circle cx=\"1514.7619047619041\" cy=\"170.0\" id=\"node_3_19\" r=\"3\"/></g><g class=\"mutations\" fill=\"red\"><rect height=\"6\" transform=\"translate(-3, -3)\" width=\"6\" x=\"85.23809523809524\" y=\"76.66666666666666\"/><rect height=\"6\" transform=\"translate(-3, -3)\" width=\"6\" x=\"85.23809523809524\" y=\"123.33333333333331\"/><rect height=\"6\" transform=\"translate(-3, -3)\" width=\"6\" x=\"386.1904761904762\" y=\"100.0\"/><rect height=\"6\" transform=\"translate(-3, -3)\" width=\"6\" x=\"1289.0476190476186\" y=\"100.0\"/></g></g><g font-size=\"14\" id=\"labels\"><g class=\"nodes\"><g text-anchor=\"start\"/><g text-anchor=\"middle\"><text x=\"85.23809523809524\" y=\"25.0\">42</text><text x=\"85.23809523809524\" y=\"190.0\">0</text><text x=\"160.47619047619048\" y=\"25.0\">41</text><text x=\"160.47619047619048\" y=\"190.0\">1</text><text x=\"235.71428571428572\" y=\"25.0\">40</text><text x=\"235.71428571428572\" y=\"190.0\">2</text><text x=\"310.95238095238096\" y=\"25.0\">20</text><text x=\"310.95238095238096\" y=\"190.0\">3</text><text x=\"386.1904761904762\" y=\"25.0\">38</text><text x=\"386.1904761904762\" y=\"190.0\">4</text><text x=\"461.42857142857144\" y=\"25.0\">37</text><text x=\"461.42857142857144\" y=\"190.0\">5</text><text x=\"536.6666666666667\" y=\"25.0\">36</text><text x=\"536.6666666666667\" y=\"190.0\">6</text><text x=\"611.9047619047619\" y=\"25.0\">35</text><text x=\"611.9047619047619\" y=\"190.0\">7</text><text x=\"687.1428571428571\" y=\"25.0\">34</text><text x=\"687.1428571428571\" y=\"190.0\">8</text><text x=\"762.3809523809523\" y=\"25.0\">33</text><text x=\"762.3809523809523\" y=\"190.0\">9</text><text x=\"837.6190476190475\" y=\"25.0\">32</text><text x=\"837.6190476190475\" y=\"190.0\">10</text><text x=\"912.8571428571427\" y=\"25.0\">31</text><text x=\"912.8571428571427\" y=\"190.0\">11</text><text x=\"988.0952380952378\" y=\"25.0\">21</text><text x=\"988.0952380952378\" y=\"190.0\">12</text><text x=\"1063.333333333333\" y=\"25.0\">29</text><text x=\"1063.333333333333\" y=\"190.0\">13</text><text x=\"1138.5714285714282\" y=\"25.0\">28</text><text x=\"1138.5714285714282\" y=\"190.0\">14</text><text x=\"1213.8095238095234\" y=\"25.0\">27</text><text x=\"1213.8095238095234\" y=\"190.0\">15</text><text x=\"1289.0476190476186\" y=\"25.0\">26</text><text x=\"1289.0476190476186\" y=\"190.0\">16</text><text x=\"1364.2857142857138\" y=\"25.0\">25</text><text x=\"1364.2857142857138\" y=\"190.0\">17</text><text x=\"1439.523809523809\" y=\"25.0\">24</text><text x=\"1439.523809523809\" y=\"190.0\">18</text><text x=\"1514.7619047619041\" y=\"25.0\">23</text><text x=\"1514.7619047619041\" y=\"190.0\">19</text></g><g text-anchor=\"end\"/></g><g class=\"mutations\" font-style=\"italic\"><g text-anchor=\"start\"/><g text-anchor=\"end\"><text x=\"80.23809523809524\" y=\"80.66666666666666\">5</text><text x=\"80.23809523809524\" y=\"127.33333333333331\">3</text><text x=\"381.1904761904762\" y=\"104.0\">4</text><text x=\"1284.0476190476186\" y=\"104.0\">2</text></g></g></g></g></svg>"
      ],
      "text/plain": [
       "<IPython.core.display.SVG object>"
      ]
     },
     "metadata": {},
     "output_type": "display_data"
    },
    {
     "name": "stdout",
     "output_type": "stream",
     "text": [
      "Tree 3 covers [445842.78, 1000000.00)\n"
     ]
    }
   ],
   "source": [
    "for tree in ts.trees():\n",
    "    display(SVG(tree.draw(width = 1600, height = 200)))\n",
    "    plt.show()\n",
    "    plt.close()\n",
    "    coalescent = []\n",
    "    coalescent_gen = []\n",
    "    print(\"Tree {} covers [{:.2f}, {:.2f})\".format(\n",
    "            tree.index, *tree.interval)\n",
    "        )"
   ]
  },
  {
   "cell_type": "code",
   "execution_count": 9,
   "metadata": {},
   "outputs": [
    {
     "name": "stdout",
     "output_type": "stream",
     "text": [
      "[{0.0: 0, 17.0: 0}, {0.0: 0, 17.0: 0}, {0.0: 0, 17.0: 0}, {0.0: 0, 17.0: 0}]\n"
     ]
    }
   ],
   "source": [
    "times = []\n",
    "for tree in ts.trees():\n",
    "    allTimes = []\n",
    "    info = {}\n",
    "    for node1 in tree.nodes(order=\"postorder\"):\n",
    "            allTimes.append(tree.time(node1))\n",
    "    for t in np.unique(allTimes):\n",
    "        info[t]=0\n",
    "    times.append(info)\n",
    "print(times)"
   ]
  },
  {
   "cell_type": "code",
   "execution_count": 18,
   "metadata": {},
   "outputs": [
    {
     "name": "stdout",
     "output_type": "stream",
     "text": [
      "[]\n"
     ]
    }
   ],
   "source": [
    "l = []\n",
    "for tree in ts.trees():\n",
    "    lst = []           \n",
    "    for node1 in tree.nodes(order=\"postorder\"):\n",
    "        for node2 in tree.nodes(order=\"postorder\"):\n",
    "            if ((node1 != node2)& (tree.parent(node1) == tree.parent(node2)) & (tree.parent(node1) != -1)):\n",
    "                lst.append(tree.parent(node1))\n",
    "                coalEvents = np.unique(lst)\n",
    "                print(lst)\n",
    "                if (tree.time(node1) == tree.time(node2)):\n",
    "                    times[tree.index][tree.time(node1)] = times[tree.index][tree.time(node1)]+1\n",
    "                \n",
    "    #l.append(coalEvents)\n",
    "    #print(times[tree.index])\n",
    "    #print(coalEvents.size)\n",
    "    #plt.bar(times[tree.index].keys(), times[tree.index].values(), color='lightblue')\n",
    "    #plt.show()\n",
    "print(l)"
   ]
  },
  {
   "cell_type": "code",
   "execution_count": null,
   "metadata": {},
   "outputs": [],
   "source": []
  }
 ],
 "metadata": {
  "kernelspec": {
   "display_name": "Python 3",
   "language": "python",
   "name": "python3"
  },
  "language_info": {
   "codemirror_mode": {
    "name": "ipython",
    "version": 3
   },
   "file_extension": ".py",
   "mimetype": "text/x-python",
   "name": "python",
   "nbconvert_exporter": "python",
   "pygments_lexer": "ipython3",
   "version": "3.7.4"
  }
 },
 "nbformat": 4,
 "nbformat_minor": 2
}
