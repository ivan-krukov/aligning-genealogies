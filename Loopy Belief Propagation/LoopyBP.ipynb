{
 "cells": [
  {
   "cell_type": "code",
   "execution_count": 195,
   "metadata": {},
   "outputs": [],
   "source": [
    "import numpy  as np\n",
    "import matplotlib.pyplot as plt"
   ]
  },
  {
   "cell_type": "code",
   "execution_count": 196,
   "metadata": {},
   "outputs": [],
   "source": [
    "import igraph as ig"
   ]
  },
  {
   "cell_type": "code",
   "execution_count": 197,
   "metadata": {},
   "outputs": [],
   "source": [
    "class factor:\n",
    "    def __init__(self, variables = None, distribution = None):\n",
    "        if (distribution is None) and (variables is not None):\n",
    "            self.__set_data(np.array(variables), None, None)\n",
    "        elif (variables is None) or (len(variables) != len(distribution.shape)):\n",
    "            raise Exception('Data is incorrect')\n",
    "        else:\n",
    "            self.__set_data(np.array(variables),\n",
    "                            np.array(distribution),\n",
    "                            np.array(distribution.shape))\n",
    "    \n",
    "    def __set_data(self, variables, distribution, shape):\n",
    "        self.__variables    = variables\n",
    "        self.__distribution = distribution\n",
    "        self.__shape        = shape\n",
    "    \n",
    "    # ----------------------- Info --------------------------\n",
    "    def is_none(self):\n",
    "        return True if self.__distribution is None else False\n",
    "        \n",
    "    # ----------------------- Getters -----------------------\n",
    "    def get_variables(self):\n",
    "        return self.__variables\n",
    "    \n",
    "    def get_distribution(self):\n",
    "        return self.__distribution\n",
    "    \n",
    "    def get_shape(self):\n",
    "        return self.__shape"
   ]
  },
  {
   "cell_type": "code",
   "execution_count": 198,
   "metadata": {},
   "outputs": [],
   "source": [
    "def factor_product(x, y):\n",
    "    if x.is_none() or y.is_none():\n",
    "        raise Exception('One of the factors is None')\n",
    "    \n",
    "    xy, xy_in_x_ind, xy_in_y_ind = np.intersect1d(x.get_variables(), y.get_variables(), return_indices=True)\n",
    "    \n",
    "    if xy.size == 0:\n",
    "        raise Exception('Factors do not have common variables')\n",
    "    \n",
    "    if not np.all(x.get_shape()[xy_in_x_ind] == y.get_shape()[xy_in_y_ind]):\n",
    "        raise Exception('Common variables have different order')\n",
    "    \n",
    "    x_not_in_y = np.setdiff1d(x.get_variables(), y.get_variables(), assume_unique=True)\n",
    "    y_not_in_x = np.setdiff1d(y.get_variables(), x.get_variables(), assume_unique=True)\n",
    "    \n",
    "    x_mask = np.isin(x.get_variables(), xy, invert=True)\n",
    "    y_mask = np.isin(y.get_variables(), xy, invert=True)\n",
    "    \n",
    "    x_ind = np.array([-1]*len(x.get_variables()), dtype=int)\n",
    "    y_ind = np.array([-1]*len(y.get_variables()), dtype=int)\n",
    "    \n",
    "    x_ind[x_mask] = np.arange(np.sum(x_mask))\n",
    "    y_ind[y_mask] = np.arange(np.sum(y_mask)) + np.sum(np.invert(y_mask))\n",
    "    \n",
    "    x_ind[xy_in_x_ind] = np.arange(len(xy)) + np.sum(x_mask)\n",
    "    y_ind[xy_in_y_ind] = np.arange(len(xy))\n",
    "    \n",
    "    x_distribution = np.moveaxis(x.get_distribution(), range(len(x_ind)), x_ind)\n",
    "    y_distribution = np.moveaxis(y.get_distribution(), range(len(y_ind)), y_ind)\n",
    "                \n",
    "    res_distribution =   x_distribution[tuple([slice(None)]*len(x.get_variables())+[None]*len(y_not_in_x))] \\\n",
    "                       * y_distribution[tuple([None]*len(x_not_in_y)+[slice(None)])]\n",
    "    \n",
    "    return factor(list(x_not_in_y)+list(xy)+list(y_not_in_x), res_distribution)"
   ]
  },
  {
   "cell_type": "code",
   "execution_count": 199,
   "metadata": {},
   "outputs": [],
   "source": [
    "def factor_marginalization(x, variables):\n",
    "    variables = np.array(variables)\n",
    "    \n",
    "    res_variables    = np.setdiff1d(x.get_variables(), variables, assume_unique=True)\n",
    "    res_distribution = np.sum(x.get_distribution(),\n",
    "                              tuple(np.where(np.isin(x.get_variables(), variables))[0]))\n",
    "    \n",
    "    return factor(res_variables, res_distribution)"
   ]
  },
  {
   "cell_type": "code",
   "execution_count": 200,
   "metadata": {},
   "outputs": [],
   "source": [
    "def factor_reduction(x, variable, value):\n",
    "    if x.is_none() or (variable is None) or (value is None):\n",
    "        raise Exception('Input is None')\n",
    "    \n",
    "    if not np.any(variable == x.get_variables()):\n",
    "        raise Exception('Factor do not contain given variable')\n",
    "    \n",
    "    if value >= x.get_shape()[np.where(variable==x.get_variables())[0]]:\n",
    "        raise Exception('Incorrect value of given variable')\n",
    "    \n",
    "    res_variables    = np.setdiff1d(x.get_variables(), variable, assume_unique=True)\n",
    "    res_distribution = np.take(x.get_distribution(),\n",
    "                               value,\n",
    "                               int(np.where(variable==x.get_variables())[0]))\n",
    "    \n",
    "    return factor(res_variables, res_distribution)"
   ]
  },
  {
   "cell_type": "code",
   "execution_count": 201,
   "metadata": {},
   "outputs": [],
   "source": [
    "def joint_distribution(ar):\n",
    "    for element in ar:\n",
    "        if element.is_none():\n",
    "            raise Exception('Factor is None')\n",
    "    \n",
    "    res = ar[0]\n",
    "    for element in ar[1:]:\n",
    "        res = factor_product(res, element)\n",
    "    \n",
    "    return res"
   ]
  },
  {
   "cell_type": "code",
   "execution_count": 202,
   "metadata": {},
   "outputs": [],
   "source": [
    "class factor_graph:\n",
    "    def __init__(self):\n",
    "        self._graph = ig.Graph()\n",
    "    \n",
    "    # ----------------------- Factor node functions ---------\n",
    "    def add_factor_node(self, f_name, factor_): pass\n",
    "    def change_factor_distribution(self, f_name, factor_): pass\n",
    "    def remove_factor(self, f_name, remove_zero_degree=False): pass\n",
    "    def __create_factor_node(self, f_name, factor_): pass\n",
    "    \n",
    "    # ----------------------- Rank functions -------\n",
    "    def __check_variable_ranks(self, f_name, factor_, allowded_v_degree): pass\n",
    "    def __set_variable_ranks(self, f_name, factor_): pass\n",
    "        \n",
    "    # ----------------------- Variable node functions -------\n",
    "    def add_variable_node(self, v_name): pass\n",
    "    def remove_variable(self, v_name): pass\n",
    "    def __create_variable_node(self, v_name, rank=None): pass\n",
    "\n",
    "    # ----------------------- Info --------------------------\n",
    "    def get_node_status(self, name): pass\n",
    "    \n",
    "    # ----------------------- Graph structure ---------------\n",
    "    def get_graph(self): pass\n",
    "    def is_connected(self): pass\n",
    "    def is_loop(self): pass"
   ]
  },
  {
   "cell_type": "code",
   "execution_count": 203,
   "metadata": {},
   "outputs": [],
   "source": [
    "def add_factor_node(self, f_name, factor_):\n",
    "    if (self.get_node_status(f_name) != False) or (f_name in factor_.get_variables()):\n",
    "        raise Exception('Invalid factor name')\n",
    "    if type(factor_) is not factor:\n",
    "        raise Exception('Invalid factor_')\n",
    "    for v_name in factor_.get_variables():\n",
    "        if self.get_node_status(v_name) == 'factor':\n",
    "            raise Exception('Invalid factor')\n",
    "    \n",
    "    # Check ranks\n",
    "    self.__check_variable_ranks(f_name, factor_, 1)\n",
    "    # Create variables\n",
    "    for v_name in factor_.get_variables():\n",
    "        if self.get_node_status(v_name) == False:\n",
    "            self.__create_variable_node(v_name)\n",
    "    # Set ranks\n",
    "    self.__set_variable_ranks(f_name, factor_)\n",
    "    # Add node and corresponding edges\n",
    "    self.__create_factor_node(f_name, factor_)\n",
    "    \n",
    "factor_graph.add_factor_node = add_factor_node"
   ]
  },
  {
   "cell_type": "code",
   "execution_count": 204,
   "metadata": {},
   "outputs": [],
   "source": [
    "def change_factor_distribution(self, f_name, factor_):\n",
    "    if self.get_node_status(f_name) != 'factor':\n",
    "        raise Exception('Invalid variable name')\n",
    "    \n",
    "    # Check ranks\n",
    "    self.__check_variable_ranks(f_name, factor_, 0)\n",
    "    # Set ranks\n",
    "    self.__set_variable_ranks(f_name, factor_)\n",
    "    # Set data\n",
    "    self._graph.vs.find(name=f_name)['factor_'] = factor_\n",
    "    \n",
    "factor_graph.change_factor_distribution = change_factor_distribution"
   ]
  },
  {
   "cell_type": "code",
   "execution_count": 205,
   "metadata": {},
   "outputs": [],
   "source": [
    "def remove_factor(self, f_name, remove_zero_degree=False):\n",
    "    if self.get_node_status(f_name) != 'factor':\n",
    "        raise Exception('Invalid variable name')\n",
    "    \n",
    "    neighbors = self._graph.neighbors(f_name, mode=\"out\")\n",
    "    self._graph.delete_vertices(f_name)\n",
    "    \n",
    "    if remove_zero_degree:\n",
    "        for v_name in neighbors:\n",
    "            if self._graph.vs.find(v_name).degree() == 0:\n",
    "                self.remove_variable(v_name)\n",
    "    \n",
    "factor_graph.remove_factor = remove_factor"
   ]
  },
  {
   "cell_type": "code",
   "execution_count": 206,
   "metadata": {},
   "outputs": [],
   "source": [
    "def __create_factor_node(self, f_name, factor_):\n",
    "    # Create node\n",
    "    self._graph.add_vertex(f_name)\n",
    "    self._graph.vs.find(name=f_name)['is_factor'] = True\n",
    "    self._graph.vs.find(name=f_name)['factor_']   = factor_\n",
    "    \n",
    "    # Create corresponding edges\n",
    "    start = self._graph.vs.find(name=f_name).index\n",
    "    edge_list = [tuple([start, self._graph.vs.find(name=i).index]) for i in factor_.get_variables()]\n",
    "    self._graph.add_edges(edge_list)\n",
    "    \n",
    "factor_graph.__create_factor_node = __create_factor_node"
   ]
  },
  {
   "cell_type": "code",
   "execution_count": 207,
   "metadata": {},
   "outputs": [],
   "source": [
    "def __check_variable_ranks(self, f_name, factor_, allowded_v_degree):\n",
    "    for counter, v_name in enumerate(factor_.get_variables()):\n",
    "        if (self.get_node_status(v_name) == 'variable') and (not factor_.is_none()):\n",
    "            if     (self._graph.vs.find(name=v_name)['rank'] != factor_.get_shape()[counter]) \\\n",
    "               and (self._graph.vs.find(name=v_name)['rank'] != None) \\\n",
    "               and (self._graph.vs.find(v_name).degree() > allowded_v_degree):\n",
    "                raise Exception('Invalid shape of factor_')\n",
    "\n",
    "factor_graph.__check_variable_ranks = __check_variable_ranks"
   ]
  },
  {
   "cell_type": "code",
   "execution_count": 208,
   "metadata": {},
   "outputs": [],
   "source": [
    "def __set_variable_ranks(self, f_name, factor_):\n",
    "    for counter, v_name in enumerate(factor_.get_variables()):\n",
    "        if factor_.is_none():\n",
    "            self._graph.vs.find(name=v_name)['rank'] = None\n",
    "        else:\n",
    "            self._graph.vs.find(name=v_name)['rank'] = factor_.get_shape()[counter]\n",
    "            \n",
    "factor_graph.__set_variable_ranks = __set_variable_ranks"
   ]
  },
  {
   "cell_type": "code",
   "execution_count": 209,
   "metadata": {},
   "outputs": [],
   "source": [
    "def add_variable_node(self, v_name):\n",
    "    if self.get_node_status(v_name) != False:\n",
    "        raise Exception('Node already exists')\n",
    "    self.__create_variable_node(v_name)\n",
    "    \n",
    "factor_graph.add_variable_node = add_variable_node"
   ]
  },
  {
   "cell_type": "code",
   "execution_count": 210,
   "metadata": {},
   "outputs": [],
   "source": [
    "def remove_variable(self, v_name):\n",
    "    if self.get_node_status(v_name) != 'variable':\n",
    "        raise Exception('Invalid variable name')\n",
    "    if self._graph.vs.find(v_name).degree() != 0:\n",
    "        raise Exception('Can not delete variables with degree >0')\n",
    "    self._graph.delete_vertices(self._graph.vs.find(v_name).index)        \n",
    "    \n",
    "factor_graph.remove_variable = remove_variable"
   ]
  },
  {
   "cell_type": "code",
   "execution_count": 211,
   "metadata": {},
   "outputs": [],
   "source": [
    "def __create_variable_node(self, v_name, rank=None):\n",
    "    self._graph.add_vertex(v_name)\n",
    "    self._graph.vs.find(name=v_name)['is_factor'] = False\n",
    "    self._graph.vs.find(name=v_name)['rank'] = rank\n",
    "    \n",
    "factor_graph.__create_variable_node = __create_variable_node"
   ]
  },
  {
   "cell_type": "code",
   "execution_count": 212,
   "metadata": {},
   "outputs": [],
   "source": [
    "def get_node_status(self, name):\n",
    "    if len(self._graph.vs) == 0:\n",
    "        return False\n",
    "    elif len(self._graph.vs.select(name_eq=name)) == 0:\n",
    "        return False\n",
    "    else:\n",
    "        if self._graph.vs.find(name=name)['is_factor'] == True:\n",
    "            return 'factor'\n",
    "        else:\n",
    "            return 'variable'\n",
    "    \n",
    "factor_graph.get_node_status = get_node_status"
   ]
  },
  {
   "cell_type": "code",
   "execution_count": 213,
   "metadata": {},
   "outputs": [],
   "source": [
    "def get_graph(self):\n",
    "    return self._graph\n",
    "\n",
    "factor_graph.get_graph = get_graph\n",
    "\n",
    "def is_connected(self):\n",
    "    return self._graph.is_connected()\n",
    "\n",
    "factor_graph.is_connected = is_connected\n",
    "\n",
    "def is_loop(self):\n",
    "    return any(self._graph.is_loop())\n",
    "\n",
    "factor_graph.is_loop = is_loop"
   ]
  },
  {
   "cell_type": "code",
   "execution_count": 214,
   "metadata": {},
   "outputs": [],
   "source": [
    "def string2factor_graph(str_):\n",
    "    res_factor_graph = factor_graph()\n",
    "    \n",
    "    str_ = [i.split('(') for i in str_.split(')') if i != '']\n",
    "    for i in range(len(str_)):\n",
    "        str_[i][1] = str_[i][1].split(',')\n",
    "        \n",
    "    for i in str_:\n",
    "        res_factor_graph.add_factor_node(i[0], factor(i[1]))\n",
    "    \n",
    "    return res_factor_graph"
   ]
  },
  {
   "cell_type": "code",
   "execution_count": 215,
   "metadata": {},
   "outputs": [],
   "source": [
    "def plot_factor_graph(x):\n",
    "    graph = net.Network(notebook=True, width=\"100%\")\n",
    "    graph.toggle_physics(False)\n",
    "    \n",
    "    # Vertices\n",
    "    label = x.get_graph().vs['name']\n",
    "    color = ['#2E2E2E' if i is True else '#F2F2F2' for i in x.get_graph().vs['is_factor']]\n",
    "    graph.add_nodes(range(len(x.get_graph().vs)), label=label, color=color)\n",
    "    \n",
    "    # Edges\n",
    "    graph.add_edges(x.get_graph().get_edgelist())\n",
    "    \n",
    "    return graph.show(\"./img/3/graph.html\")"
   ]
  },
  {
   "cell_type": "code",
   "execution_count": 216,
   "metadata": {},
   "outputs": [],
   "source": [
    "class loopy_belief_propagation():\n",
    "    def __init__(self, pgm):\n",
    "        if type(pgm) is not factor_graph:\n",
    "            raise Exception('PGM is not a factor graph')\n",
    "        if not pgm.is_connected():\n",
    "            raise Exception('PGM is not connected')\n",
    "        if len(pgm.get_graph().es) - 1 == len(pgm.get_graph().vs):\n",
    "            raise Exception('PGM is a tree')\n",
    "        \n",
    "        self.__t       = 0\n",
    "        self.__msg     = {}\n",
    "        self.__msg_new = {}\n",
    "        self.__pgm     = pgm\n",
    "        \n",
    "        # Initialization of messages\n",
    "        for edge in self.__pgm.get_graph().es:\n",
    "            start_index, end_index = edge.tuple[0], edge.tuple[1]\n",
    "            start_name, end_name = self.__pgm.get_graph().vs[start_index]['name'], self.__pgm.get_graph().vs[end_index]['name']\n",
    "            \n",
    "            if self.__pgm.get_graph().vs[start_index]['is_factor']:\n",
    "                self.__msg[(start_name, end_name)] = factor([end_name],   np.array([1.]*self.__pgm.get_graph().vs[end_index]['rank']))\n",
    "            else:\n",
    "                self.__msg[(start_name, end_name)] = factor([start_name], np.array([1.]*self.__pgm.get_graph().vs[start_index]['rank']))\n",
    "            self.__msg[(end_name, start_name)] = self.__msg[(start_name, end_name)]\n",
    "            \n",
    "            self.__msg_new[(start_name, end_name)] = 0\n",
    "            self.__msg_new[(end_name, start_name)] = 0\n",
    "    \n",
    "    def belief(self, v_name, num_iter):\n",
    "        if self.__t > num_iter:\n",
    "            raise Exception('Invalid number of iterations. Current number: ' + str(self.__t))\n",
    "        elif self.__t < num_iter:\n",
    "            self.__loop(num_iter)\n",
    "        \n",
    "        incoming_messages = []\n",
    "        for f_name_neighbor in self.__pgm.get_graph().vs[self.__pgm.get_graph().neighbors(v_name)]['name']:\n",
    "            incoming_messages.append(self.get_factor2variable_msg(f_name_neighbor, v_name))\n",
    "        return self.__normalize_msg(joint_distribution(incoming_messages))\n",
    "    \n",
    "    # ----------------------- Variable to factor ------------\n",
    "    def get_variable2factor_msg(self, v_name, f_name):\n",
    "        return self.__msg[(v_name, f_name)]\n",
    "    \n",
    "    def __compute_variable2factor_msg(self, v_name, f_name):\n",
    "        incoming_messages = []\n",
    "        for f_name_neighbor in self.__pgm.get_graph().vs[self.__pgm.get_graph().neighbors(v_name)]['name']:\n",
    "            if f_name_neighbor != f_name:\n",
    "                incoming_messages.append(self.get_factor2variable_msg(f_name_neighbor, v_name))\n",
    "        \n",
    "        if not incoming_messages:\n",
    "            return factor([v_name], np.array([1]*self.__pgm.get_graph().vs.find(name=v_name)['rank']))\n",
    "        else:\n",
    "            return self.__normalize_msg(joint_distribution(incoming_messages))\n",
    "    \n",
    "    # ----------------------- Factor to variable ------------\n",
    "    def get_factor2variable_msg(self, f_name, v_name):\n",
    "        return self.__msg[(f_name, v_name)]\n",
    "    \n",
    "    def __compute_factor2variable_msg(self, f_name, v_name):\n",
    "        incoming_messages = [self.__pgm.get_graph().vs.find(f_name)['factor_']]\n",
    "        marginalization_variables = []\n",
    "        for v_name_neighbor in self.__pgm.get_graph().vs[self.__pgm.get_graph().neighbors(f_name)]['name']:\n",
    "            if v_name_neighbor != v_name:\n",
    "                incoming_messages.append(self.get_variable2factor_msg(v_name_neighbor, f_name))\n",
    "                marginalization_variables.append(v_name_neighbor)\n",
    "        return self.__normalize_msg(factor_marginalization(\n",
    "            joint_distribution(incoming_messages),\n",
    "            marginalization_variables\n",
    "        ))\n",
    "    \n",
    "    def __loop(self, num_iter):\n",
    "        # Message updating\n",
    "        while self.__t < num_iter:\n",
    "            for edge in self.__pgm.get_graph().es:\n",
    "                start_index, end_index = edge.tuple[0], edge.tuple[1]\n",
    "                start_name, end_name   = self.__pgm.get_graph().vs[start_index]['name'], self.__pgm.get_graph().vs[end_index]['name']\n",
    "\n",
    "                if self.__pgm.get_graph().vs[start_index]['is_factor']:\n",
    "                    self.__msg_new[(start_name, end_name)] = self.__compute_factor2variable_msg(start_name, end_name)\n",
    "                    self.__msg_new[(end_name, start_name)] = self.__compute_variable2factor_msg(end_name, start_name)\n",
    "                else:\n",
    "                    self.__msg_new[(start_name, end_name)] = self.__compute_variable2factor_msg(start_name, end_name)\n",
    "                    self.__msg_new[(end_name, start_name)] = self.__compute_factor2variable_msg(end_name, start_name)\n",
    "            self.__msg.update(self.__msg_new)\n",
    "            self.__t += 1\n",
    "    \n",
    "    def __normalize_msg(self, message):\n",
    "        return factor(message.get_variables(), message.get_distribution()/np.sum(message.get_distribution()))"
   ]
  },
  {
   "cell_type": "markdown",
   "metadata": {},
   "source": [
    "Simple example"
   ]
  },
  {
   "cell_type": "code",
   "execution_count": 217,
   "metadata": {},
   "outputs": [],
   "source": [
    "mrf = string2factor_graph('f1(a,b)f2(a,c)f3(b,c)')"
   ]
  },
  {
   "cell_type": "code",
   "execution_count": 218,
   "metadata": {},
   "outputs": [],
   "source": [
    "f1 = factor(['a', 'b'],  np.array([[2,3],[6,4]]))\n",
    "f2 = factor(['a', 'c'],  np.array([[7,2],[1,5]]))\n",
    "f3 = factor(['b', 'c'],  np.array([[7,9],[6,4]]))"
   ]
  },
  {
   "cell_type": "code",
   "execution_count": 219,
   "metadata": {},
   "outputs": [],
   "source": [
    "mrf.change_factor_distribution('f1', f1)\n",
    "mrf.change_factor_distribution('f2', f2)\n",
    "mrf.change_factor_distribution('f3', f3)"
   ]
  },
  {
   "cell_type": "code",
   "execution_count": 220,
   "metadata": {},
   "outputs": [
    {
     "data": {
      "text/plain": [
       "array([0.63714286, 0.36285714])"
      ]
     },
     "execution_count": 220,
     "metadata": {},
     "output_type": "execute_result"
    }
   ],
   "source": [
    "exact = factor_marginalization(joint_distribution([f1, f2, f3]), ['a', 'c']).get_distribution()\n",
    "exact = exact / np.sum(exact)\n",
    "exact"
   ]
  },
  {
   "cell_type": "code",
   "execution_count": 221,
   "metadata": {},
   "outputs": [],
   "source": [
    "lbp = loopy_belief_propagation(mrf)\n",
    "tol = []\n",
    "\n",
    "for i in range(15):\n",
    "    tol.append(np.linalg.norm(lbp.belief('b', i).get_distribution() - exact))"
   ]
  },
  {
   "cell_type": "code",
   "execution_count": null,
   "metadata": {},
   "outputs": [],
   "source": []
  }
 ],
 "metadata": {
  "kernelspec": {
   "display_name": "Python 3",
   "language": "python",
   "name": "python3"
  },
  "language_info": {
   "codemirror_mode": {
    "name": "ipython",
    "version": 3
   },
   "file_extension": ".py",
   "mimetype": "text/x-python",
   "name": "python",
   "nbconvert_exporter": "python",
   "pygments_lexer": "ipython3",
   "version": "3.7.4"
  }
 },
 "nbformat": 4,
 "nbformat_minor": 4
}
